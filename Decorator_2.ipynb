{
  "nbformat": 4,
  "nbformat_minor": 0,
  "metadata": {
    "colab": {
      "provenance": []
    },
    "kernelspec": {
      "name": "python3",
      "display_name": "Python 3"
    },
    "language_info": {
      "name": "python"
    }
  },
  "cells": [
    {
      "cell_type": "code",
      "execution_count": null,
      "metadata": {
        "id": "MqjeACgPYoZn"
      },
      "outputs": [],
      "source": [
        "# function as parameter\n",
        "\n",
        "def f1(f):\n",
        "  return 'hello ' +f\n",
        "def f2():\n",
        "  return 'ravi'\n"
      ]
    },
    {
      "cell_type": "code",
      "source": [
        "f1(f2())"
      ],
      "metadata": {
        "colab": {
          "base_uri": "https://localhost:8080/",
          "height": 35
        },
        "id": "RiOI-JHhgkT4",
        "outputId": "9e7944da-8a4d-449f-9744-9d722a4076f9"
      },
      "execution_count": null,
      "outputs": [
        {
          "output_type": "execute_result",
          "data": {
            "text/plain": [
              "'helloravi'"
            ],
            "application/vnd.google.colaboratory.intrinsic+json": {
              "type": "string"
            }
          },
          "metadata": {},
          "execution_count": 5
        }
      ]
    },
    {
      "cell_type": "code",
      "source": [
        "# inner function\n",
        "\n",
        "def outer ():\n",
        "  def inner():\n",
        "    print('hello')\n",
        "  return inner()\n",
        "outer()    \n"
      ],
      "metadata": {
        "colab": {
          "base_uri": "https://localhost:8080/"
        },
        "id": "JwbzOGY-gkgh",
        "outputId": "e7c686d4-bf9a-4f45-a5cc-ee0c4678d840"
      },
      "execution_count": null,
      "outputs": [
        {
          "output_type": "stream",
          "name": "stdout",
          "text": [
            "hello\n"
          ]
        }
      ]
    },
    {
      "cell_type": "code",
      "source": [
        "inner()"
      ],
      "metadata": {
        "colab": {
          "base_uri": "https://localhost:8080/",
          "height": 165
        },
        "id": "1A8WnYShi1XQ",
        "outputId": "a00c2fe5-f940-44b7-86ee-5945f450ac31"
      },
      "execution_count": null,
      "outputs": [
        {
          "output_type": "error",
          "ename": "NameError",
          "evalue": "ignored",
          "traceback": [
            "\u001b[0;31m---------------------------------------------------------------------------\u001b[0m",
            "\u001b[0;31mNameError\u001b[0m                                 Traceback (most recent call last)",
            "\u001b[0;32m<ipython-input-7-bc10f1654870>\u001b[0m in \u001b[0;36m<module>\u001b[0;34m\u001b[0m\n\u001b[0;32m----> 1\u001b[0;31m \u001b[0minner\u001b[0m\u001b[0;34m(\u001b[0m\u001b[0;34m)\u001b[0m\u001b[0;34m\u001b[0m\u001b[0;34m\u001b[0m\u001b[0m\n\u001b[0m",
            "\u001b[0;31mNameError\u001b[0m: name 'inner' is not defined"
          ]
        }
      ]
    },
    {
      "cell_type": "code",
      "source": [
        "def outer(x):\n",
        "  def inner():\n",
        "    print('i am inner func')\n",
        "    y=x+100\n",
        "    return y\n",
        "  return inner() \n",
        "\n",
        "outer(10)   "
      ],
      "metadata": {
        "colab": {
          "base_uri": "https://localhost:8080/"
        },
        "id": "ejn8y2Oai91k",
        "outputId": "90ae82ba-dfab-4b24-bcc9-a32af84aeee5"
      },
      "execution_count": null,
      "outputs": [
        {
          "output_type": "stream",
          "name": "stdout",
          "text": [
            "i am inner func\n"
          ]
        },
        {
          "output_type": "execute_result",
          "data": {
            "text/plain": [
              "110"
            ]
          },
          "metadata": {},
          "execution_count": 9
        }
      ]
    },
    {
      "cell_type": "code",
      "source": [
        "# decorator\n",
        "\n",
        "def div (x,y):\n",
        "  return x/y"
      ],
      "metadata": {
        "id": "BhfNDBW2jumZ"
      },
      "execution_count": null,
      "outputs": []
    },
    {
      "cell_type": "code",
      "source": [
        "div(10,2)"
      ],
      "metadata": {
        "colab": {
          "base_uri": "https://localhost:8080/"
        },
        "id": "-NwhTL9dmXUE",
        "outputId": "840ec97b-d366-4bac-a1d8-b897e50b320a"
      },
      "execution_count": null,
      "outputs": [
        {
          "output_type": "execute_result",
          "data": {
            "text/plain": [
              "5.0"
            ]
          },
          "metadata": {},
          "execution_count": 11
        }
      ]
    },
    {
      "cell_type": "code",
      "source": [
        "div(20,5)"
      ],
      "metadata": {
        "colab": {
          "base_uri": "https://localhost:8080/"
        },
        "id": "k-1m7esXma2F",
        "outputId": "9b1884f7-6868-4371-b259-27f2b796921f"
      },
      "execution_count": null,
      "outputs": [
        {
          "output_type": "execute_result",
          "data": {
            "text/plain": [
              "4.0"
            ]
          },
          "metadata": {},
          "execution_count": 12
        }
      ]
    },
    {
      "cell_type": "code",
      "source": [
        "div(5,10)"
      ],
      "metadata": {
        "colab": {
          "base_uri": "https://localhost:8080/"
        },
        "id": "0l32zqbxmhnn",
        "outputId": "56092b4c-9288-4fdc-d40c-2323c6faf44c"
      },
      "execution_count": null,
      "outputs": [
        {
          "output_type": "execute_result",
          "data": {
            "text/plain": [
              "0.5"
            ]
          },
          "metadata": {},
          "execution_count": 13
        }
      ]
    },
    {
      "cell_type": "code",
      "source": [
        "def div(x,y):\n",
        "  if x<y:\n",
        "    x,y=y,x\n",
        "    return x/y\n",
        "\n",
        "div(2,10)    "
      ],
      "metadata": {
        "colab": {
          "base_uri": "https://localhost:8080/"
        },
        "id": "Y8Wsv90Smknb",
        "outputId": "103d52f0-2f4c-47d6-fa79-9964c7c065c9"
      },
      "execution_count": null,
      "outputs": [
        {
          "output_type": "execute_result",
          "data": {
            "text/plain": [
              "5.0"
            ]
          },
          "metadata": {},
          "execution_count": 14
        }
      ]
    },
    {
      "cell_type": "code",
      "source": [
        "def div_modify(func):\n",
        "  def inner(x,y):\n",
        "    if x<y:\n",
        "      x,y=y,x\n",
        "    return  func(x,y)\n",
        "  return inner\n",
        "\n",
        "def div (x,y):\n",
        "  return x/y      "
      ],
      "metadata": {
        "id": "DkP7OtBanRRR"
      },
      "execution_count": null,
      "outputs": []
    },
    {
      "cell_type": "code",
      "source": [
        "d=div_modify(div)\n",
        "d(10,2)"
      ],
      "metadata": {
        "colab": {
          "base_uri": "https://localhost:8080/"
        },
        "id": "1DdCiPAzof9M",
        "outputId": "a1f6eaf9-1683-4bc9-af55-66f463e8f84e"
      },
      "execution_count": null,
      "outputs": [
        {
          "output_type": "execute_result",
          "data": {
            "text/plain": [
              "5.0"
            ]
          },
          "metadata": {},
          "execution_count": 3
        }
      ]
    },
    {
      "cell_type": "code",
      "source": [
        "d(2,10)"
      ],
      "metadata": {
        "colab": {
          "base_uri": "https://localhost:8080/"
        },
        "id": "gmP5a_dHoxxB",
        "outputId": "75c0364a-99f9-43df-cbc7-29aeb4955a52"
      },
      "execution_count": null,
      "outputs": [
        {
          "output_type": "execute_result",
          "data": {
            "text/plain": [
              "5.0"
            ]
          },
          "metadata": {},
          "execution_count": 4
        }
      ]
    },
    {
      "cell_type": "code",
      "source": [
        "def div_modify(func):\n",
        "  def inner(x,y):\n",
        "    if x<y:\n",
        "      x,y=y,x\n",
        "    return  func(x,y)\n",
        "  return inner\n",
        "@div_modify\n",
        "def div (x,y):\n",
        "  return x/y  "
      ],
      "metadata": {
        "id": "omKe-0Pmq_Cg"
      },
      "execution_count": null,
      "outputs": []
    },
    {
      "cell_type": "code",
      "source": [
        "div(4,10)"
      ],
      "metadata": {
        "colab": {
          "base_uri": "https://localhost:8080/"
        },
        "id": "5jKsgV9yrWFE",
        "outputId": "df2ab670-d71e-4b8a-d59c-39c2b61fba32"
      },
      "execution_count": null,
      "outputs": [
        {
          "output_type": "execute_result",
          "data": {
            "text/plain": [
              "2.5"
            ]
          },
          "metadata": {},
          "execution_count": 6
        }
      ]
    },
    {
      "cell_type": "code",
      "source": [
        "def outer_decor(func):\n",
        "  def inner():\n",
        "    val=func()\n",
        "    s=val+100\n",
        "    d=val-50\n",
        "    return s,d \n",
        "  return inner   \n",
        "@outer_decor\n",
        "def show():\n",
        "  x=10\n",
        "  return x\n",
        "@outer_decor\n",
        "def func2():\n",
        "  return 20 \n",
        "\n",
        "def func3():\n",
        "  return 40"
      ],
      "metadata": {
        "id": "B9VSKDeAra7K"
      },
      "execution_count": null,
      "outputs": []
    },
    {
      "cell_type": "code",
      "source": [
        "show()"
      ],
      "metadata": {
        "colab": {
          "base_uri": "https://localhost:8080/"
        },
        "id": "4zzrOwm5sFnB",
        "outputId": "70c375c5-543d-4a80-f76e-a200163f4de8"
      },
      "execution_count": null,
      "outputs": [
        {
          "output_type": "execute_result",
          "data": {
            "text/plain": [
              "(110, -40)"
            ]
          },
          "metadata": {},
          "execution_count": 10
        }
      ]
    },
    {
      "cell_type": "code",
      "source": [
        "func2()"
      ],
      "metadata": {
        "colab": {
          "base_uri": "https://localhost:8080/"
        },
        "id": "L1UlbK1EtQBN",
        "outputId": "0d4c60bd-5494-43da-d9a8-69789a26b817"
      },
      "execution_count": null,
      "outputs": [
        {
          "output_type": "execute_result",
          "data": {
            "text/plain": [
              "(120, -30)"
            ]
          },
          "metadata": {},
          "execution_count": 17
        }
      ]
    },
    {
      "cell_type": "code",
      "source": [
        "def show():\n",
        "  x=20\n",
        "  s=x+100\n",
        "  d=x-50\n",
        "  return s,d\n",
        "show()  "
      ],
      "metadata": {
        "colab": {
          "base_uri": "https://localhost:8080/"
        },
        "id": "rEwChFfltSk_",
        "outputId": "9a367bd0-a7a4-4648-b106-c34ba81db323"
      },
      "execution_count": null,
      "outputs": [
        {
          "output_type": "execute_result",
          "data": {
            "text/plain": [
              "(120, -30)"
            ]
          },
          "metadata": {},
          "execution_count": 22
        }
      ]
    },
    {
      "cell_type": "code",
      "source": [
        "func3()"
      ],
      "metadata": {
        "colab": {
          "base_uri": "https://localhost:8080/"
        },
        "id": "10qXcD_UuECv",
        "outputId": "b9facbb5-b016-41f0-9466-fcce2fa0f504"
      },
      "execution_count": null,
      "outputs": [
        {
          "output_type": "execute_result",
          "data": {
            "text/plain": [
              "40"
            ]
          },
          "metadata": {},
          "execution_count": 24
        }
      ]
    },
    {
      "cell_type": "code",
      "source": [
        "# iterable\n",
        "\n",
        "l=[1,2,3,4]\n",
        "for i in l:\n",
        "  print(i)"
      ],
      "metadata": {
        "colab": {
          "base_uri": "https://localhost:8080/"
        },
        "id": "Zx40iwSxwSMv",
        "outputId": "82d75644-60c0-466f-8a08-f9aa9428a407"
      },
      "execution_count": null,
      "outputs": [
        {
          "output_type": "stream",
          "name": "stdout",
          "text": [
            "1\n",
            "2\n",
            "3\n",
            "4\n"
          ]
        }
      ]
    },
    {
      "cell_type": "code",
      "source": [
        "s='sai ravi'\n",
        "for i in s:\n",
        "  print(i)"
      ],
      "metadata": {
        "colab": {
          "base_uri": "https://localhost:8080/"
        },
        "id": "_d7IGfDQw8f8",
        "outputId": "9970f5dd-9c89-4121-d4b2-4b830609a84c"
      },
      "execution_count": null,
      "outputs": [
        {
          "output_type": "stream",
          "name": "stdout",
          "text": [
            "s\n",
            "a\n",
            "i\n",
            " \n",
            "r\n",
            "a\n",
            "v\n",
            "i\n"
          ]
        }
      ]
    },
    {
      "cell_type": "code",
      "source": [
        "x=45\n",
        "for i in x:\n",
        "  print(i)"
      ],
      "metadata": {
        "colab": {
          "base_uri": "https://localhost:8080/",
          "height": 200
        },
        "id": "gDkToUdoxCc6",
        "outputId": "0fe48688-2e56-47d8-ed05-56177763f235"
      },
      "execution_count": null,
      "outputs": [
        {
          "output_type": "error",
          "ename": "TypeError",
          "evalue": "ignored",
          "traceback": [
            "\u001b[0;31m---------------------------------------------------------------------------\u001b[0m",
            "\u001b[0;31mTypeError\u001b[0m                                 Traceback (most recent call last)",
            "\u001b[0;32m<ipython-input-27-eff6014ecc17>\u001b[0m in \u001b[0;36m<module>\u001b[0;34m\u001b[0m\n\u001b[1;32m      1\u001b[0m \u001b[0mx\u001b[0m\u001b[0;34m=\u001b[0m\u001b[0;36m45\u001b[0m\u001b[0;34m\u001b[0m\u001b[0;34m\u001b[0m\u001b[0m\n\u001b[0;32m----> 2\u001b[0;31m \u001b[0;32mfor\u001b[0m \u001b[0mi\u001b[0m \u001b[0;32min\u001b[0m \u001b[0mx\u001b[0m\u001b[0;34m:\u001b[0m\u001b[0;34m\u001b[0m\u001b[0;34m\u001b[0m\u001b[0m\n\u001b[0m\u001b[1;32m      3\u001b[0m   \u001b[0mprint\u001b[0m\u001b[0;34m(\u001b[0m\u001b[0mi\u001b[0m\u001b[0;34m)\u001b[0m\u001b[0;34m\u001b[0m\u001b[0;34m\u001b[0m\u001b[0m\n",
            "\u001b[0;31mTypeError\u001b[0m: 'int' object is not iterable"
          ]
        }
      ]
    },
    {
      "cell_type": "code",
      "source": [
        "l=[10,20,30,40]\n",
        "for i in l:\n",
        "  print(i)"
      ],
      "metadata": {
        "colab": {
          "base_uri": "https://localhost:8080/"
        },
        "id": "JSkzqCEWxTpy",
        "outputId": "f2c2a469-a7a9-4612-9bf9-cb354854622b"
      },
      "execution_count": null,
      "outputs": [
        {
          "output_type": "stream",
          "name": "stdout",
          "text": [
            "10\n",
            "20\n",
            "30\n",
            "40\n"
          ]
        }
      ]
    },
    {
      "cell_type": "code",
      "source": [
        "next(l)"
      ],
      "metadata": {
        "colab": {
          "base_uri": "https://localhost:8080/",
          "height": 165
        },
        "id": "4qCyXUgIxhQf",
        "outputId": "4b82ae85-ceb2-4a8e-a3f2-3eba27af89ee"
      },
      "execution_count": null,
      "outputs": [
        {
          "output_type": "error",
          "ename": "TypeError",
          "evalue": "ignored",
          "traceback": [
            "\u001b[0;31m---------------------------------------------------------------------------\u001b[0m",
            "\u001b[0;31mTypeError\u001b[0m                                 Traceback (most recent call last)",
            "\u001b[0;32m<ipython-input-29-cdc8a39da60d>\u001b[0m in \u001b[0;36m<module>\u001b[0;34m\u001b[0m\n\u001b[0;32m----> 1\u001b[0;31m \u001b[0mnext\u001b[0m\u001b[0;34m(\u001b[0m\u001b[0ml\u001b[0m\u001b[0;34m)\u001b[0m\u001b[0;34m\u001b[0m\u001b[0;34m\u001b[0m\u001b[0m\n\u001b[0m",
            "\u001b[0;31mTypeError\u001b[0m: 'list' object is not an iterator"
          ]
        }
      ]
    },
    {
      "cell_type": "code",
      "source": [
        "# to convert iterable into iterator ...use iter()\n",
        "b=iter(l)\n",
        "b"
      ],
      "metadata": {
        "colab": {
          "base_uri": "https://localhost:8080/"
        },
        "id": "brGbqyAVx0IS",
        "outputId": "37a2cbe1-958c-48de-a552-bac92babe76b"
      },
      "execution_count": null,
      "outputs": [
        {
          "output_type": "execute_result",
          "data": {
            "text/plain": [
              "<list_iterator at 0x7f3a65342090>"
            ]
          },
          "metadata": {},
          "execution_count": 30
        }
      ]
    },
    {
      "cell_type": "code",
      "source": [
        "next(b)"
      ],
      "metadata": {
        "colab": {
          "base_uri": "https://localhost:8080/"
        },
        "id": "pLkOuTIuyOQY",
        "outputId": "b1feb16c-899d-441c-9c67-6844759a293a"
      },
      "execution_count": null,
      "outputs": [
        {
          "output_type": "execute_result",
          "data": {
            "text/plain": [
              "10"
            ]
          },
          "metadata": {},
          "execution_count": 31
        }
      ]
    },
    {
      "cell_type": "code",
      "source": [
        "next(b)"
      ],
      "metadata": {
        "colab": {
          "base_uri": "https://localhost:8080/"
        },
        "id": "dr2vOKTZyVIo",
        "outputId": "9eeb2718-390e-4211-8e4f-176c2ffd9548"
      },
      "execution_count": null,
      "outputs": [
        {
          "output_type": "execute_result",
          "data": {
            "text/plain": [
              "20"
            ]
          },
          "metadata": {},
          "execution_count": 32
        }
      ]
    },
    {
      "cell_type": "code",
      "source": [
        "next(b)"
      ],
      "metadata": {
        "colab": {
          "base_uri": "https://localhost:8080/"
        },
        "id": "EZGDDogIyabf",
        "outputId": "d22415d2-f02b-4dfb-bbfc-ad47830ff579"
      },
      "execution_count": null,
      "outputs": [
        {
          "output_type": "execute_result",
          "data": {
            "text/plain": [
              "30"
            ]
          },
          "metadata": {},
          "execution_count": 33
        }
      ]
    },
    {
      "cell_type": "code",
      "source": [
        "next(b)"
      ],
      "metadata": {
        "colab": {
          "base_uri": "https://localhost:8080/"
        },
        "id": "R4Nnlt6pydaN",
        "outputId": "7c861249-6c3b-4f74-adf0-6ac48d535d91"
      },
      "execution_count": null,
      "outputs": [
        {
          "output_type": "execute_result",
          "data": {
            "text/plain": [
              "40"
            ]
          },
          "metadata": {},
          "execution_count": 34
        }
      ]
    },
    {
      "cell_type": "code",
      "source": [
        "next(b)"
      ],
      "metadata": {
        "colab": {
          "base_uri": "https://localhost:8080/",
          "height": 165
        },
        "id": "KnzUHmqXye3C",
        "outputId": "49f541cc-54cd-4009-801e-87bfc59004b3"
      },
      "execution_count": null,
      "outputs": [
        {
          "output_type": "error",
          "ename": "StopIteration",
          "evalue": "ignored",
          "traceback": [
            "\u001b[0;31m---------------------------------------------------------------------------\u001b[0m",
            "\u001b[0;31mStopIteration\u001b[0m                             Traceback (most recent call last)",
            "\u001b[0;32m<ipython-input-35-adb3e17b0219>\u001b[0m in \u001b[0;36m<module>\u001b[0;34m\u001b[0m\n\u001b[0;32m----> 1\u001b[0;31m \u001b[0mnext\u001b[0m\u001b[0;34m(\u001b[0m\u001b[0mb\u001b[0m\u001b[0;34m)\u001b[0m\u001b[0;34m\u001b[0m\u001b[0;34m\u001b[0m\u001b[0m\n\u001b[0m",
            "\u001b[0;31mStopIteration\u001b[0m: "
          ]
        }
      ]
    },
    {
      "cell_type": "code",
      "source": [
        "t=(1,2,3,4) # iterable\n",
        "\n",
        "x=iter(t)    # iterator\n",
        "next(x)"
      ],
      "metadata": {
        "colab": {
          "base_uri": "https://localhost:8080/"
        },
        "id": "b4TCVLMhygKN",
        "outputId": "794cd645-705a-4483-de67-a72243e21f31"
      },
      "execution_count": null,
      "outputs": [
        {
          "output_type": "execute_result",
          "data": {
            "text/plain": [
              "1"
            ]
          },
          "metadata": {},
          "execution_count": 37
        }
      ]
    },
    {
      "cell_type": "code",
      "source": [
        "next(x)"
      ],
      "metadata": {
        "colab": {
          "base_uri": "https://localhost:8080/"
        },
        "id": "d9Us8cNVzxgf",
        "outputId": "a418c172-8e7f-4714-eda3-459817e5ad5f"
      },
      "execution_count": null,
      "outputs": [
        {
          "output_type": "execute_result",
          "data": {
            "text/plain": [
              "2"
            ]
          },
          "metadata": {},
          "execution_count": 38
        }
      ]
    },
    {
      "cell_type": "code",
      "source": [
        "next(x)"
      ],
      "metadata": {
        "colab": {
          "base_uri": "https://localhost:8080/"
        },
        "id": "-sUJBoeW0CYl",
        "outputId": "cc4927b2-0db8-4ef5-c3b0-6051530cef19"
      },
      "execution_count": null,
      "outputs": [
        {
          "output_type": "execute_result",
          "data": {
            "text/plain": [
              "3"
            ]
          },
          "metadata": {},
          "execution_count": 39
        }
      ]
    },
    {
      "cell_type": "code",
      "source": [
        "next(x)"
      ],
      "metadata": {
        "colab": {
          "base_uri": "https://localhost:8080/"
        },
        "id": "gesdR28_0DiR",
        "outputId": "b497fdf6-8d47-4efc-e3af-09c6f24ea0cd"
      },
      "execution_count": null,
      "outputs": [
        {
          "output_type": "execute_result",
          "data": {
            "text/plain": [
              "4"
            ]
          },
          "metadata": {},
          "execution_count": 40
        }
      ]
    },
    {
      "cell_type": "code",
      "source": [
        "next(x)"
      ],
      "metadata": {
        "colab": {
          "base_uri": "https://localhost:8080/",
          "height": 165
        },
        "id": "Jae4ulOC0Fkc",
        "outputId": "2ddfe2e9-016e-4a9f-8ca9-26229d4edaaf"
      },
      "execution_count": null,
      "outputs": [
        {
          "output_type": "error",
          "ename": "StopIteration",
          "evalue": "ignored",
          "traceback": [
            "\u001b[0;31m---------------------------------------------------------------------------\u001b[0m",
            "\u001b[0;31mStopIteration\u001b[0m                             Traceback (most recent call last)",
            "\u001b[0;32m<ipython-input-41-92de4e9f6b1e>\u001b[0m in \u001b[0;36m<module>\u001b[0;34m\u001b[0m\n\u001b[0;32m----> 1\u001b[0;31m \u001b[0mnext\u001b[0m\u001b[0;34m(\u001b[0m\u001b[0mx\u001b[0m\u001b[0;34m)\u001b[0m\u001b[0;34m\u001b[0m\u001b[0;34m\u001b[0m\u001b[0m\n\u001b[0m",
            "\u001b[0;31mStopIteration\u001b[0m: "
          ]
        }
      ]
    },
    {
      "cell_type": "code",
      "source": [
        "z=10\n",
        "y=iter(z)"
      ],
      "metadata": {
        "colab": {
          "base_uri": "https://localhost:8080/",
          "height": 183
        },
        "id": "ejjx1p2p0HQh",
        "outputId": "a660153b-4cab-43ca-e86a-d0331d18d224"
      },
      "execution_count": null,
      "outputs": [
        {
          "output_type": "error",
          "ename": "TypeError",
          "evalue": "ignored",
          "traceback": [
            "\u001b[0;31m---------------------------------------------------------------------------\u001b[0m",
            "\u001b[0;31mTypeError\u001b[0m                                 Traceback (most recent call last)",
            "\u001b[0;32m<ipython-input-42-449c9cdb63cc>\u001b[0m in \u001b[0;36m<module>\u001b[0;34m\u001b[0m\n\u001b[1;32m      1\u001b[0m \u001b[0mz\u001b[0m\u001b[0;34m=\u001b[0m\u001b[0;36m10\u001b[0m\u001b[0;34m\u001b[0m\u001b[0;34m\u001b[0m\u001b[0m\n\u001b[0;32m----> 2\u001b[0;31m \u001b[0my\u001b[0m\u001b[0;34m=\u001b[0m\u001b[0miter\u001b[0m\u001b[0;34m(\u001b[0m\u001b[0mz\u001b[0m\u001b[0;34m)\u001b[0m\u001b[0;34m\u001b[0m\u001b[0;34m\u001b[0m\u001b[0m\n\u001b[0m",
            "\u001b[0;31mTypeError\u001b[0m: 'int' object is not iterable"
          ]
        }
      ]
    },
    {
      "cell_type": "code",
      "source": [
        "# yield #   generator\n",
        "range(4)\n",
        "\n"
      ],
      "metadata": {
        "colab": {
          "base_uri": "https://localhost:8080/"
        },
        "id": "bovR36bg0QDP",
        "outputId": "ba1322ed-52ae-4d1a-b324-0398663dd518"
      },
      "execution_count": null,
      "outputs": [
        {
          "output_type": "execute_result",
          "data": {
            "text/plain": [
              "range(0, 4)"
            ]
          },
          "metadata": {},
          "execution_count": 43
        }
      ]
    },
    {
      "cell_type": "code",
      "source": [
        "list(range(4))"
      ],
      "metadata": {
        "colab": {
          "base_uri": "https://localhost:8080/"
        },
        "id": "_cKgKa420x_B",
        "outputId": "76660f08-e43e-4dab-e3e1-4c51b79c4d2e"
      },
      "execution_count": null,
      "outputs": [
        {
          "output_type": "execute_result",
          "data": {
            "text/plain": [
              "[0, 1, 2, 3]"
            ]
          },
          "metadata": {},
          "execution_count": 44
        }
      ]
    },
    {
      "cell_type": "code",
      "source": [
        "for i in range(4):\n",
        "  print(i)"
      ],
      "metadata": {
        "colab": {
          "base_uri": "https://localhost:8080/"
        },
        "id": "GtJdRYDl01T7",
        "outputId": "1a1698a0-1d14-4305-aa0a-7cf45e05f9d4"
      },
      "execution_count": null,
      "outputs": [
        {
          "output_type": "stream",
          "name": "stdout",
          "text": [
            "0\n",
            "1\n",
            "2\n",
            "3\n"
          ]
        }
      ]
    },
    {
      "cell_type": "code",
      "source": [
        "def func2(n):\n",
        "  v=[v for v in range(n)]\n",
        "  return v\n",
        "func2(4)  "
      ],
      "metadata": {
        "colab": {
          "base_uri": "https://localhost:8080/"
        },
        "id": "2aPj4Nbj05J-",
        "outputId": "d1e1925e-b0eb-4f84-a25a-49854d2d5c6f"
      },
      "execution_count": null,
      "outputs": [
        {
          "output_type": "execute_result",
          "data": {
            "text/plain": [
              "[0, 1, 2, 3]"
            ]
          },
          "metadata": {},
          "execution_count": 46
        }
      ]
    },
    {
      "cell_type": "code",
      "source": [
        "def func2(n):\n",
        "  v=[v for v in range(n)]\n",
        "  yield v\n",
        "d=func2(4)\n",
        "d  "
      ],
      "metadata": {
        "colab": {
          "base_uri": "https://localhost:8080/"
        },
        "id": "OdsLSLy_1WrT",
        "outputId": "b56c0311-0585-4f0b-b310-fd0d288b25a9"
      },
      "execution_count": null,
      "outputs": [
        {
          "output_type": "execute_result",
          "data": {
            "text/plain": [
              "<generator object func2 at 0x7f3a652af1d0>"
            ]
          },
          "metadata": {},
          "execution_count": 52
        }
      ]
    },
    {
      "cell_type": "code",
      "source": [
        "list(d)"
      ],
      "metadata": {
        "colab": {
          "base_uri": "https://localhost:8080/"
        },
        "id": "HMCKo2EY1hkc",
        "outputId": "b35da3ba-c160-4558-8c13-000c892c7ceb"
      },
      "execution_count": null,
      "outputs": [
        {
          "output_type": "execute_result",
          "data": {
            "text/plain": [
              "[[0, 1, 2, 3]]"
            ]
          },
          "metadata": {},
          "execution_count": 50
        }
      ]
    },
    {
      "cell_type": "code",
      "source": [
        "for i in d:\n",
        "  print(i)"
      ],
      "metadata": {
        "colab": {
          "base_uri": "https://localhost:8080/"
        },
        "id": "YQmN_iux1jLj",
        "outputId": "f4dd16a5-b4f6-4e59-ce74-f6852d83a7b9"
      },
      "execution_count": null,
      "outputs": [
        {
          "output_type": "stream",
          "name": "stdout",
          "text": [
            "[0, 1, 2, 3]\n"
          ]
        }
      ]
    },
    {
      "cell_type": "code",
      "source": [
        "def fib(n):\n",
        "  a=1\n",
        "  b=1\n",
        "  l=[]\n",
        "  for i in range(n):\n",
        "    l.append(a)\n",
        "    a,b=b,a+b\n",
        "  return l \n",
        "fib(1000000)   "
      ],
      "metadata": {
        "id": "9lHvRMsF1l-u"
      },
      "execution_count": null,
      "outputs": []
    },
    {
      "cell_type": "code",
      "source": [],
      "metadata": {
        "id": "J_2zQBfE4Hur"
      },
      "execution_count": null,
      "outputs": []
    },
    {
      "cell_type": "code",
      "source": [
        "def fib_gen(n):\n",
        "  a=1\n",
        "  b=1\n",
        "  for i in range(n):\n",
        "    yield a\n",
        "    a,b=b,a+b\n",
        "  \n",
        "fb=fib_gen(1000000)   \n",
        "fb"
      ],
      "metadata": {
        "colab": {
          "base_uri": "https://localhost:8080/"
        },
        "id": "itJ8bBGd2rMr",
        "outputId": "514f2ed7-e52d-4b4b-f44d-bef1abfe1337"
      },
      "execution_count": null,
      "outputs": [
        {
          "output_type": "execute_result",
          "data": {
            "text/plain": [
              "<generator object fib_gen at 0x7f7b45c6e050>"
            ]
          },
          "metadata": {},
          "execution_count": 1
        }
      ]
    },
    {
      "cell_type": "code",
      "source": [
        "list(fb)"
      ],
      "metadata": {
        "id": "0XXQNVpc3BHs"
      },
      "execution_count": null,
      "outputs": []
    },
    {
      "cell_type": "code",
      "source": [
        "def f(*args,a,b,c):\n",
        "  return args,a,b,c\n",
        "f(1,2,3,a=4,b=10,c=0)  "
      ],
      "metadata": {
        "id": "iZm4V0k13JmX",
        "colab": {
          "base_uri": "https://localhost:8080/"
        },
        "outputId": "ee7c159a-1be4-4749-cd09-821b7b2ac43a"
      },
      "execution_count": 4,
      "outputs": [
        {
          "output_type": "execute_result",
          "data": {
            "text/plain": [
              "((1, 2, 3), 4, 10, 0)"
            ]
          },
          "metadata": {},
          "execution_count": 4
        }
      ]
    },
    {
      "cell_type": "code",
      "source": [
        "def f(a,b,c,*args):\n",
        "  return args,a,b,c\n",
        "f(1,2,3,4,5,6) "
      ],
      "metadata": {
        "colab": {
          "base_uri": "https://localhost:8080/"
        },
        "id": "0chs1L9VzyDm",
        "outputId": "8532fda9-d69a-45de-9d01-e4c1f05c5817"
      },
      "execution_count": 5,
      "outputs": [
        {
          "output_type": "execute_result",
          "data": {
            "text/plain": [
              "((4, 5, 6), 1, 2, 3)"
            ]
          },
          "metadata": {},
          "execution_count": 5
        }
      ]
    },
    {
      "cell_type": "code",
      "source": [
        "def f(**kwargs):\n",
        "  return kwargs\n",
        "f(1,2,3)  "
      ],
      "metadata": {
        "colab": {
          "base_uri": "https://localhost:8080/",
          "height": 209
        },
        "id": "fFAh9cK70NYb",
        "outputId": "42619a51-9101-4734-ffc0-82ace87692c7"
      },
      "execution_count": 6,
      "outputs": [
        {
          "output_type": "error",
          "ename": "TypeError",
          "evalue": "ignored",
          "traceback": [
            "\u001b[0;31m---------------------------------------------------------------------------\u001b[0m",
            "\u001b[0;31mTypeError\u001b[0m                                 Traceback (most recent call last)",
            "\u001b[0;32m<ipython-input-6-57badc479b1e>\u001b[0m in \u001b[0;36m<module>\u001b[0;34m\u001b[0m\n\u001b[1;32m      1\u001b[0m \u001b[0;32mdef\u001b[0m \u001b[0mf\u001b[0m\u001b[0;34m(\u001b[0m\u001b[0;34m**\u001b[0m\u001b[0mkwargs\u001b[0m\u001b[0;34m)\u001b[0m\u001b[0;34m:\u001b[0m\u001b[0;34m\u001b[0m\u001b[0;34m\u001b[0m\u001b[0m\n\u001b[1;32m      2\u001b[0m   \u001b[0;32mreturn\u001b[0m \u001b[0mkwargs\u001b[0m\u001b[0;34m\u001b[0m\u001b[0;34m\u001b[0m\u001b[0m\n\u001b[0;32m----> 3\u001b[0;31m \u001b[0mf\u001b[0m\u001b[0;34m(\u001b[0m\u001b[0;36m1\u001b[0m\u001b[0;34m,\u001b[0m\u001b[0;36m2\u001b[0m\u001b[0;34m,\u001b[0m\u001b[0;36m3\u001b[0m\u001b[0;34m)\u001b[0m\u001b[0;34m\u001b[0m\u001b[0;34m\u001b[0m\u001b[0m\n\u001b[0m",
            "\u001b[0;31mTypeError\u001b[0m: f() takes 0 positional arguments but 3 were given"
          ]
        }
      ]
    },
    {
      "cell_type": "code",
      "source": [
        "f(x=1,y=2,z=3)"
      ],
      "metadata": {
        "colab": {
          "base_uri": "https://localhost:8080/"
        },
        "id": "ZXun6b6H0XN2",
        "outputId": "9a70e479-f6c3-44bf-95d1-8fa0d1b39c88"
      },
      "execution_count": 7,
      "outputs": [
        {
          "output_type": "execute_result",
          "data": {
            "text/plain": [
              "{'x': 1, 'y': 2, 'z': 3}"
            ]
          },
          "metadata": {},
          "execution_count": 7
        }
      ]
    },
    {
      "cell_type": "code",
      "source": [
        "def display(f):\n",
        "  return 'hello'+f\n",
        "def show():\n",
        "  return ' prabhat' \n",
        "\n",
        "display(show())"
      ],
      "metadata": {
        "colab": {
          "base_uri": "https://localhost:8080/",
          "height": 36
        },
        "id": "4SmVOb6q0arW",
        "outputId": "ec151cb3-d66d-4438-e90d-6f516e4e9620"
      },
      "execution_count": 13,
      "outputs": [
        {
          "output_type": "execute_result",
          "data": {
            "text/plain": [
              "'hello prabhat'"
            ],
            "application/vnd.google.colaboratory.intrinsic+json": {
              "type": "string"
            }
          },
          "metadata": {},
          "execution_count": 13
        }
      ]
    },
    {
      "cell_type": "code",
      "source": [
        "def decor_(fun):\n",
        "  def inner():\n",
        "    val=fun()\n",
        "    val+=100\n",
        "    return val\n",
        "  return inner\n",
        "@decor_\n",
        "def fn1():\n",
        "  return 10\n",
        "fn1()\n"
      ],
      "metadata": {
        "colab": {
          "base_uri": "https://localhost:8080/"
        },
        "id": "2pldpXEU0wmd",
        "outputId": "f69d5d38-4955-4b81-d6fc-4478570a0b38"
      },
      "execution_count": 28,
      "outputs": [
        {
          "output_type": "execute_result",
          "data": {
            "text/plain": [
              "110"
            ]
          },
          "metadata": {},
          "execution_count": 28
        }
      ]
    },
    {
      "cell_type": "code",
      "source": [
        "##\n",
        "\n",
        "def f1(func):\n",
        "  def wrapper():\n",
        "    print('started')\n",
        "    func()\n",
        "    print('ended')\n",
        "  return wrapper\n",
        "@f1\n",
        "def f2():\n",
        "  print('hello')   \n",
        "f2()   "
      ],
      "metadata": {
        "colab": {
          "base_uri": "https://localhost:8080/"
        },
        "id": "Y3P_beQZ2DCT",
        "outputId": "00a3db63-35ea-40cd-f755-5938604a113d"
      },
      "execution_count": 30,
      "outputs": [
        {
          "output_type": "stream",
          "name": "stdout",
          "text": [
            "started\n",
            "hello\n",
            "ended\n"
          ]
        }
      ]
    },
    {
      "cell_type": "code",
      "source": [
        "# #\n",
        "def sales(no_of_items,price_per_item):\n",
        "  p=no_of_items*price_per_item\n",
        "  if p>=500:\n",
        "    p=p-p*0.1\n",
        "    return p\n",
        "  else:\n",
        "    return p  \n",
        "sales(30,20)"
      ],
      "metadata": {
        "colab": {
          "base_uri": "https://localhost:8080/"
        },
        "id": "zVibcZNy6gYS",
        "outputId": "87f13f9f-a715-4439-8b53-478938f178b3"
      },
      "execution_count": 40,
      "outputs": [
        {
          "output_type": "execute_result",
          "data": {
            "text/plain": [
              "540.0"
            ]
          },
          "metadata": {},
          "execution_count": 40
        }
      ]
    },
    {
      "cell_type": "code",
      "source": [
        "## discount decorator\n",
        "def discount(func):\n",
        "  def inner(x,y):\n",
        "    p=func(x,y)\n",
        "    if p>=500:\n",
        "      p=p-p*0.1\n",
        "      return p\n",
        "    else:\n",
        "      return p  \n",
        "  return inner\n",
        "@discount\n",
        "def sales(no_of_items,price_per_item):\n",
        "  return no_of_items*price_per_item\n",
        "\n",
        "sales(5,20)"
      ],
      "metadata": {
        "colab": {
          "base_uri": "https://localhost:8080/"
        },
        "id": "vfmUq1m_2H0C",
        "outputId": "cf34ee34-edb3-442f-cd44-6937bf5db7ec"
      },
      "execution_count": 37,
      "outputs": [
        {
          "output_type": "execute_result",
          "data": {
            "text/plain": [
              "100"
            ]
          },
          "metadata": {},
          "execution_count": 37
        }
      ]
    },
    {
      "cell_type": "code",
      "source": [
        "def discount(func):\n",
        "  def inner(*args):\n",
        "    p=func(*args)\n",
        "    if p>=500:\n",
        "      p=p-p*0.1\n",
        "      return p\n",
        "    else:\n",
        "      return p  \n",
        "  return inner\n",
        "@discount\n",
        "def sales(no_of_items,price_per_item,length):\n",
        "  return no_of_items*price_per_item*length\n",
        "\n",
        "sales(10,20,3)"
      ],
      "metadata": {
        "id": "12d9t2M_9ZBq"
      },
      "execution_count": null,
      "outputs": []
    },
    {
      "cell_type": "code",
      "source": [
        "def discount(func):\n",
        "  def inner():\n",
        "    p=func()\n",
        "    if p>=500:\n",
        "      p=p-p*0.1\n",
        "      return p\n",
        "    else:\n",
        "      return p  \n",
        "  return inner\n",
        "@discount\n",
        "def sales():\n",
        "  return 500\n",
        "\n",
        "sales()"
      ],
      "metadata": {
        "colab": {
          "base_uri": "https://localhost:8080/"
        },
        "id": "Eui8FazT6Qvy",
        "outputId": "70d0348b-1679-402c-c22d-384ba15b45d8"
      },
      "execution_count": 39,
      "outputs": [
        {
          "output_type": "execute_result",
          "data": {
            "text/plain": [
              "450.0"
            ]
          },
          "metadata": {},
          "execution_count": 39
        }
      ]
    },
    {
      "cell_type": "code",
      "source": [
        "# decorator can be used in class also\n",
        "\n",
        "def before_after(func):\n",
        "  def wrapper(*args):   # wrapper(x)\n",
        "    print('before')\n",
        "    func(*args)         # func(x)\n",
        "    print('after')\n",
        "  return wrapper\n",
        "\n",
        "class Test:\n",
        "  @before_after\n",
        "  def decor_method(self):\n",
        "    print('Run')\n",
        "t=Test()\n",
        "t.decor_method()"
      ],
      "metadata": {
        "colab": {
          "base_uri": "https://localhost:8080/"
        },
        "id": "z6pr4fJL4yVO",
        "outputId": "a6d17827-7d54-4643-be9e-3329d6911c10"
      },
      "execution_count": 45,
      "outputs": [
        {
          "output_type": "stream",
          "name": "stdout",
          "text": [
            "before\n",
            "Run\n",
            "after\n"
          ]
        }
      ]
    },
    {
      "cell_type": "code",
      "source": [
        "# time decorator\n",
        "import time\n",
        "def timer(f):\n",
        "  def wrapper():\n",
        "    before=time.time()\n",
        "    #print(before)\n",
        "    f()\n",
        "    #print(time.time())\n",
        "    print('function took :',time.time()-before,\" seconds\")\n",
        "  return wrapper\n",
        "@timer\n",
        "def run():\n",
        "     time.sleep(3)\n",
        "run()        "
      ],
      "metadata": {
        "colab": {
          "base_uri": "https://localhost:8080/"
        },
        "id": "jqDwEHuc5S7W",
        "outputId": "08883fab-41a7-4f38-f1ea-e1a6285ae454"
      },
      "execution_count": 60,
      "outputs": [
        {
          "output_type": "stream",
          "name": "stdout",
          "text": [
            "function took : 3.0031447410583496  seconds\n"
          ]
        }
      ]
    },
    {
      "cell_type": "code",
      "source": [
        "time.sleep(3)"
      ],
      "metadata": {
        "id": "EGCv7NqV9ww-"
      },
      "execution_count": 55,
      "outputs": []
    },
    {
      "cell_type": "code",
      "source": [
        "# decor for calculating execution time for a fun\n",
        "import time\n",
        "def timer(f):\n",
        "  def wrapper(*args):  # x\n",
        "    before=time.time()\n",
        "    #print(before)\n",
        "    f(*args)  # *args--> x\n",
        "    #print(time.time())\n",
        "    print('function took :',time.time()-before,\" seconds\")\n",
        "    #return f(x)\n",
        "  return wrapper\n",
        "@timer\n",
        "def fib(n):\n",
        "  a=1\n",
        "  b=1\n",
        "  l=[]\n",
        "  for i in range(n):\n",
        "    l.append(a)\n",
        "    a,b=b,a+b\n",
        "  return l \n",
        "fib(99000)  "
      ],
      "metadata": {
        "colab": {
          "base_uri": "https://localhost:8080/"
        },
        "id": "IYVICG-w-Q3X",
        "outputId": "cd1d5cc8-d12f-42dc-9f29-a65d00f0b8cc"
      },
      "execution_count": 3,
      "outputs": [
        {
          "output_type": "stream",
          "name": "stdout",
          "text": [
            "function took : 0.692270040512085  seconds\n"
          ]
        }
      ]
    },
    {
      "cell_type": "code",
      "source": [
        "# Two decorator in a function\n",
        "def dadecor(func):\n",
        "  def inner():\n",
        "    sal=func()\n",
        "    sal+=sal*0.10\n",
        "    return sal\n",
        "  return inner()\n",
        "def hradecor(func):\n",
        "  def inner():\n",
        "    sal=func()\n",
        "    sal+=sal*0.20\n",
        "    return sal\n",
        "  return inner\n",
        "\n",
        "@dadecor\n",
        "@hradecor\n",
        "def emp_sal():\n",
        "  return 10000\n",
        "emp_sal"
      ],
      "metadata": {
        "colab": {
          "base_uri": "https://localhost:8080/"
        },
        "id": "hAwSZjKr_8u1",
        "outputId": "9cb4af7b-5595-464d-c564-8d72aa922771"
      },
      "execution_count": 17,
      "outputs": [
        {
          "output_type": "execute_result",
          "data": {
            "text/plain": [
              "13200.0"
            ]
          },
          "metadata": {},
          "execution_count": 17
        }
      ]
    },
    {
      "cell_type": "code",
      "source": [
        "## \n",
        "def main_func(fun):\n",
        "  def inner_func(*args):\n",
        "    print('Function that is running : ',fun.__name__)\n",
        "    print(fun.__name__,fun(*args))\n",
        "    op=fun(*args)+10\n",
        "    print('final op= ',op)\n",
        "  return inner_func\n",
        "@main_func\n",
        "def add(*args):\n",
        "  s=0\n",
        "  for i in args:\n",
        "    s+=i\n",
        "  return s \n",
        "@main_func\n",
        "def mul(*args):\n",
        "  m=1\n",
        "  for i in args:\n",
        "    m*=i\n",
        "  return m  "
      ],
      "metadata": {
        "id": "zo6g9vToDm_A"
      },
      "execution_count": 21,
      "outputs": []
    },
    {
      "cell_type": "code",
      "source": [
        "add(1,2,3,4)"
      ],
      "metadata": {
        "colab": {
          "base_uri": "https://localhost:8080/"
        },
        "id": "xRQ8M5QCH65a",
        "outputId": "f6e8ec96-dff9-4a9a-c825-45c176cc5c3d"
      },
      "execution_count": 22,
      "outputs": [
        {
          "output_type": "stream",
          "name": "stdout",
          "text": [
            "Function that is running :  add\n",
            "add 10\n",
            "final op=  20\n"
          ]
        }
      ]
    },
    {
      "cell_type": "code",
      "source": [
        "mul(1,2,3,4)"
      ],
      "metadata": {
        "colab": {
          "base_uri": "https://localhost:8080/"
        },
        "id": "QffkjMrTH68Z",
        "outputId": "9defd54d-57a9-4814-e961-c5a741ee4493"
      },
      "execution_count": 23,
      "outputs": [
        {
          "output_type": "stream",
          "name": "stdout",
          "text": [
            "Function that is running :  mul\n",
            "mul 24\n",
            "final op=  34\n"
          ]
        }
      ]
    },
    {
      "cell_type": "code",
      "source": [
        "###\n",
        "import time\n",
        "def main_func(fun):\n",
        "  def inner_func(*args):\n",
        "    print('Function that is running : ',fun.__name__)\n",
        "    before=time.time()\n",
        "    print(fun.__name__,fun(*args))\n",
        "    op=fun(*args)+10\n",
        "    print('function took :',time.time()-before, \" seconds\")\n",
        "    print('final op= ',op)\n",
        "  return inner_func\n",
        "@main_func\n",
        "def add(*args):\n",
        "  s=0\n",
        "  for i in args:\n",
        "    s+=i\n",
        "  return s \n",
        "@main_func\n",
        "def mul(*args):\n",
        "  m=1\n",
        "  for i in args:\n",
        "    m*=i\n",
        "  return m  "
      ],
      "metadata": {
        "id": "xM8zuQKbH-14"
      },
      "execution_count": 24,
      "outputs": []
    },
    {
      "cell_type": "code",
      "source": [
        "add(1,2,3,4)"
      ],
      "metadata": {
        "colab": {
          "base_uri": "https://localhost:8080/"
        },
        "id": "f-qNJFa0Il03",
        "outputId": "2c74ef40-f2cc-47dd-858c-c6d0d454d54f"
      },
      "execution_count": 25,
      "outputs": [
        {
          "output_type": "stream",
          "name": "stdout",
          "text": [
            "Function that is running :  add\n",
            "add 10\n",
            "function took : 6.079673767089844e-05  seconds\n",
            "final op=  20\n"
          ]
        }
      ]
    },
    {
      "cell_type": "code",
      "source": [
        "mul(1,2,3,4)"
      ],
      "metadata": {
        "colab": {
          "base_uri": "https://localhost:8080/"
        },
        "id": "g6ovbGmBInqg",
        "outputId": "075460b5-9e1f-461e-db02-648e8c8e50a9"
      },
      "execution_count": 26,
      "outputs": [
        {
          "output_type": "stream",
          "name": "stdout",
          "text": [
            "Function that is running :  mul\n",
            "mul 24\n",
            "function took : 5.030632019042969e-05  seconds\n",
            "final op=  34\n"
          ]
        }
      ]
    },
    {
      "cell_type": "code",
      "source": [
        "## decorator for writing log file\n",
        "import datetime\n",
        "import time\n",
        "\n",
        "def log(func):\n",
        "  def wrapper(*args):\n",
        "    val=func(*args)\n",
        "    with open('log_file.txt','a') as f:\n",
        "      f.write('The running function is : '+func.__name__+' of '+' '.join([str(arg) for arg in args])+\n",
        "              ' at '+str(datetime.datetime.now())+ ' and value= '+str(val)+\n",
        "              '\\n')\n",
        "    \n",
        "    return val\n",
        "  return wrapper\n",
        "@log\n",
        "def sum(a,b,c):\n",
        "  return a+b+c  \n",
        "sum(10,20,30)        \n",
        "\n"
      ],
      "metadata": {
        "colab": {
          "base_uri": "https://localhost:8080/"
        },
        "id": "90h9fig9Iqu9",
        "outputId": "3e97d597-87bd-40a2-ee3f-9dc270878106"
      },
      "execution_count": 37,
      "outputs": [
        {
          "output_type": "execute_result",
          "data": {
            "text/plain": [
              "60"
            ]
          },
          "metadata": {},
          "execution_count": 37
        }
      ]
    },
    {
      "cell_type": "code",
      "source": [
        "time.time()"
      ],
      "metadata": {
        "colab": {
          "base_uri": "https://localhost:8080/"
        },
        "id": "lsoRlN9bTRZ5",
        "outputId": "b8a933d4-bb80-4e3a-e486-8627bf2142a8"
      },
      "execution_count": 27,
      "outputs": [
        {
          "output_type": "execute_result",
          "data": {
            "text/plain": [
              "1668499189.9967787"
            ]
          },
          "metadata": {},
          "execution_count": 27
        }
      ]
    },
    {
      "cell_type": "code",
      "source": [],
      "metadata": {
        "id": "wCntDVIHTTF5"
      },
      "execution_count": null,
      "outputs": []
    }
  ]
}